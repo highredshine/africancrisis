{
 "cells": [
  {
   "cell_type": "code",
   "execution_count": null,
   "metadata": {},
   "outputs": [],
   "source": [
    "#install.packages('plotly')\n",
    "library(knitr)\n",
    "library(foreign)\n",
    "library(ggplot2)\n",
    "library(tidyverse)\n",
    "library(rworldmap)\n",
    "library(sp)\n",
    "library(gganimate)\n",
    "library(maps)\n",
    "library(ggthemes)\n",
    "library(plotly)\n",
    "library(gifski)\n",
    "library(gganimate)"
   ]
  },
  {
   "cell_type": "code",
   "execution_count": null,
   "metadata": {},
   "outputs": [],
   "source": [
    "mapdata <- as.data.frame(read.csv('african_crises.csv'))\n",
    "counts <- mapdata\n",
    "counts$period[counts$year <= 1880] <- 1880\n",
    "counts$period[1880 < counts$year & counts$year <= 1900] <- 1900\n",
    "counts$period[1900 < counts$year & counts$year <= 1920] <- 1920\n",
    "counts$period[1920 < counts$year & counts$year <= 1940] <- 1940\n",
    "counts$period[1940 < counts$year & counts$year <= 1960] <- 1960\n",
    "counts$period[1960 < counts$year & counts$year <= 1980] <- 1980\n",
    "counts$period[1980 < counts$year & counts$year <= 2000] <- 2000\n",
    "counts$period[2000 < counts$year] <- 2014\n",
    "counts$banking_crises = ifelse(counts$banking_crisis == 'crisis', 1, 0)\n",
    "counts$region = counts$country\n",
    "counts = subset(counts, select = -c(country, banking_crisis, cc3))\n",
    "\n",
    "grouped <- counts %>%\n",
    "  group_by(region) %>%\n",
    "    mutate(total_crises = \n",
    "           sum(systemic_crisis) + sum(inflation_crises) + sum(currency_crises) + sum(banking_crises)) %>%\n",
    "    mutate(systemic_crisis = sum(systemic_crisis)) %>%\n",
    "    mutate(inflation_crises = sum(inflation_crises)) %>%\n",
    "    mutate(currency_crises = sum(currency_crises)) %>%\n",
    "    mutate(banking_crises = sum(banking_crises)) \n",
    "grouped <- as.data.frame(grouped)\n",
    "head(grouped)\n",
    "#write.csv(grouped, 'crises_merged.csv', row.names = TRUE)"
   ]
  },
  {
   "cell_type": "code",
   "execution_count": null,
   "metadata": {},
   "outputs": [],
   "source": [
    "grouped_sum <- counts %>%\n",
    "  group_by(region) %>%\n",
    "    mutate(total_crises = cumsum(systemic_crisis + banking_crises + inflation_crises + currency_crises))\n",
    "\n",
    "grouped_sum <- as.data.frame(grouped_sum)\n",
    "\n",
    "period_grouped <- grouped_sum[, c('period', 'region', 'total_crises')] %>%\n",
    "  group_by(region, period) %>%\n",
    "    mutate(total = max(total_crises))\n",
    "\n",
    "period_grouped_merge <- unique(as.data.frame(period_grouped[, c('period', 'region', 'total')]))\n"
   ]
  },
  {
   "cell_type": "code",
   "execution_count": null,
   "metadata": {},
   "outputs": [],
   "source": [
    "countries <- c('Algeria', 'Angola', 'Central African Republic', 'Ivory Coast',\n",
    "    'Egypt', 'Kenya', 'Mauritius', 'Morocco', 'Nigeria', 'South Africa', 'Tunisia', 'Zambia', 'Zimbabwe')\n",
    "periods <- c(1880, 1900, 1920, 1940, 1960, 1980, 2000, 2014)\n",
    "\n",
    "merge_df <- data.frame(\"region\" = character(0), \"period\" = numeric(0))\n",
    "\n",
    "for (i in countries) {\n",
    "    for (j in periods) {\n",
    "        merge_df <- rbind(merge_df, data.frame(region=i, period=j))\n",
    "    }\n",
    "}\n",
    "\n",
    "new_merge <- left_join(merge_df, period_grouped_merge, by=c('region', 'period'))\n",
    "#VALUES MANUALLY FILLED IN "
   ]
  },
  {
   "cell_type": "code",
   "execution_count": null,
   "metadata": {},
   "outputs": [],
   "source": [
    "world_data <- map_data(\"world\")\n",
    "world_joined <- inner_join(world_data, grouped, by='region')\n",
    "world_joined[is.na(world_joined)] <- \"\""
   ]
  },
  {
   "cell_type": "code",
   "execution_count": null,
   "metadata": {},
   "outputs": [],
   "source": [
    "world <- ggplot() +\n",
    "  borders(\"world\", colour = \"gray85\", fill = \"gray80\") + coord_fixed(1.1) +\n",
    "    xlim(-20, 60) + ylim(-40, 40) + theme_map()\n",
    "\n",
    "inter_map <- world +\n",
    "  geom_polygon(aes(x = long, y = lat, text = paste('Country:', region, \n",
    "                                                  '<br /> Total crises:', total_crises, \n",
    "                                                  '<br /> Systemic crises:', systemic_crisis,\n",
    "                                                  '<br /> Currency crises:', currency_crises,\n",
    "                                                  '<br /> Inflation crises:', inflation_crises,\n",
    "                                                  '<br /> Banking crises:', banking_crises),\n",
    "                 group = region, fill=total_crises),\n",
    "             data = world_joined, alpha = .5) +\n",
    "  labs(fill = 'Number of total crises') + \n",
    "  theme(legend.position = c(0.1, 0.2))\n",
    "\n",
    "inter_plot <- ggplotly(inter_map, tooltip = 'text')"
   ]
  },
  {
   "cell_type": "code",
   "execution_count": null,
   "metadata": {},
   "outputs": [],
   "source": [
    "inter_plot"
   ]
  },
  {
   "cell_type": "code",
   "execution_count": null,
   "metadata": {},
   "outputs": [],
   "source": [
    "#install.packages('gifski')\n",
    "#devtools::install_github('thomasp85/transformr', type='binary')\n",
    "time_data <- as.data.frame(read.csv('periods_merged.csv'))\n",
    "world_joined2 <- inner_join(world_data, time_data, by='region')\n",
    "world_joined2[is.na(world_joined2)] <- \"\"\n",
    "\n",
    "growth_map <- world + \n",
    "    geom_polygon(aes(x = long, y = lat,\n",
    "                 group = region, fill=total),\n",
    "             data = subset(world_joined2, subregion != 'Marion Island'), alpha = 0.5) + \n",
    "    labs(title = \"Number of crises experienced in {frame_time}\") + \n",
    "    transition_time(period) + \n",
    "    labs(fill = 'Number of crises') + \n",
    "    theme(legend.position = c(0.1, 0.2))\n",
    "\n",
    "anim <- animate(\n",
    "    growth_map, duration = 5, fps = 20, width = 500, height = 500,\n",
    "    nframes=50, renderer = gifski_renderer(), end_pause = 20)\n",
    "anim_save(filename = 'time_map.gif', animation = anim)\n"
   ]
  },
  {
   "cell_type": "code",
   "execution_count": null,
   "metadata": {},
   "outputs": [],
   "source": [
    "grouped_avg <- counts[, c('exch_usd', 'gdp_weighted_default', \n",
    "                           'inflation_annual_cpi', 'period', 'region')] %>%\n",
    "  group_by(region, period) %>%\n",
    "    mutate(average_exch = mean(exch_usd)) %>%\n",
    "    mutate(average_gdp = mean(gdp_weighted_default)) %>%\n",
    "    mutate(average_cpi = mean(inflation_annual_cpi))\n",
    "\n",
    "grouped_avg <- unique(as.data.frame(grouped_avg[, 4:8]))"
   ]
  },
  {
   "cell_type": "code",
   "execution_count": null,
   "metadata": {},
   "outputs": [],
   "source": [
    "group_combined <- left_join(time_data[, 2:4], grouped_avg, by=c('region', 'period'))\n",
    "#write.csv(group_combined, 'periods_merged.csv', row.names=TRUE)"
   ]
  },
  {
   "cell_type": "code",
   "execution_count": null,
   "metadata": {},
   "outputs": [],
   "source": []
  }
 ],
 "metadata": {
  "anaconda-cloud": {},
  "kernelspec": {
   "display_name": "R",
   "language": "R",
   "name": "ir"
  },
  "language_info": {
   "codemirror_mode": "r",
   "file_extension": ".r",
   "mimetype": "text/x-r-source",
   "name": "R",
   "pygments_lexer": "r",
   "version": "3.6.2"
  }
 },
 "nbformat": 4,
 "nbformat_minor": 2
}
